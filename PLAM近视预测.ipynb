{
 "cells": [
  {
   "cell_type": "markdown",
   "metadata": {
    "collapsed": false
   },
   "source": [
    "# Baseline基线说明\n",
    "\n",
    "1. 数据加载与处理\n",
    "2. 模型加载（高层API）\n",
    "3. 模型预测\n",
    "4. 保存提交结果\n",
    "\n",
    "checkpoint未保存"
   ]
  },
  {
   "cell_type": "markdown",
   "metadata": {
    "collapsed": false
   },
   "source": [
    "解压数据集"
   ]
  },
  {
   "cell_type": "code",
   "execution_count": 2,
   "metadata": {
    "collapsed": false
   },
   "outputs": [],
   "source": [
    "#!unzip -oq /home/aistudio/data/data85133/常规赛：PALM病理性近视预测.zip"
   ]
  },
  {
   "cell_type": "markdown",
   "metadata": {
    "collapsed": false
   },
   "source": [
    "# 1. 导入相应的包"
   ]
  },
  {
   "cell_type": "code",
   "execution_count": 2,
   "metadata": {
    "collapsed": false
   },
   "outputs": [],
   "source": [
    "import pandas as pd    # 处理xlsx文件\r\n",
    "import os              # 文件操作\r\n",
    "import time            # 时间记录\r\n",
    "from tqdm import tqdm  # 进度条\r\n",
    "import cv2 as cv       # 图像处理\r\n",
    "import numpy as np     # 数据计算包\r\n",
    "\r\n",
    "import paddle                             \r\n",
    "from paddle import nn                        # 网络层API\r\n",
    "from paddle import optimizer                 # 优化器API\r\n",
    "from paddle import regularizer               # 正则化API\r\n",
    "from paddle import metric                    # 评价指标API\r\n",
    "from paddle.nn import loss                   # 损失函数API\r\n",
    "from paddle.nn import Layer                  # 网络层基类\r\n",
    "\r\n",
    "from paddle.io import Dataset, DataLoader    # 数据加载基类——Dataset，DataLoader——数据加载器\r\n",
    "from paddle.vision import transforms         # 图像预处理API"
   ]
  },
  {
   "cell_type": "markdown",
   "metadata": {
    "collapsed": false
   },
   "source": [
    "# 2. 导入数据xlsx文件，拼接完整的图片路径\n",
    "\n",
    "* 训练数据集有xlsx文件需要读取\n",
    "* 测试数据要构建DataFrame表格存储文件路径信息和标签，方便后边预测数据读取与提交格式"
   ]
  },
  {
   "cell_type": "code",
   "execution_count": 3,
   "metadata": {
    "collapsed": false
   },
   "outputs": [
    {
     "data": {
      "text/html": [
       "<div>\n",
       "<style scoped>\n",
       "    .dataframe tbody tr th:only-of-type {\n",
       "        vertical-align: middle;\n",
       "    }\n",
       "\n",
       "    .dataframe tbody tr th {\n",
       "        vertical-align: top;\n",
       "    }\n",
       "\n",
       "    .dataframe thead th {\n",
       "        text-align: right;\n",
       "    }\n",
       "</style>\n",
       "<table border=\"1\" class=\"dataframe\">\n",
       "  <thead>\n",
       "    <tr style=\"text-align: right;\">\n",
       "      <th></th>\n",
       "      <th>imgName</th>\n",
       "      <th>Label</th>\n",
       "    </tr>\n",
       "  </thead>\n",
       "  <tbody>\n",
       "    <tr>\n",
       "      <th>0</th>\n",
       "      <td>常规赛：PALM病理性近视预测/Train/fundus_image/V0327.jpg</td>\n",
       "      <td>0</td>\n",
       "    </tr>\n",
       "    <tr>\n",
       "      <th>1</th>\n",
       "      <td>常规赛：PALM病理性近视预测/Train/fundus_image/V0189.jpg</td>\n",
       "      <td>1</td>\n",
       "    </tr>\n",
       "    <tr>\n",
       "      <th>2</th>\n",
       "      <td>常规赛：PALM病理性近视预测/Train/fundus_image/V0176.jpg</td>\n",
       "      <td>1</td>\n",
       "    </tr>\n",
       "    <tr>\n",
       "      <th>3</th>\n",
       "      <td>常规赛：PALM病理性近视预测/Train/fundus_image/N0116.jpg</td>\n",
       "      <td>0</td>\n",
       "    </tr>\n",
       "    <tr>\n",
       "      <th>4</th>\n",
       "      <td>常规赛：PALM病理性近视预测/Train/fundus_image/H0010.jpg</td>\n",
       "      <td>0</td>\n",
       "    </tr>\n",
       "  </tbody>\n",
       "</table>\n",
       "</div>"
      ],
      "text/plain": [
       "                                        imgName  Label\n",
       "0  常规赛：PALM病理性近视预测/Train/fundus_image/V0327.jpg      0\n",
       "1  常规赛：PALM病理性近视预测/Train/fundus_image/V0189.jpg      1\n",
       "2  常规赛：PALM病理性近视预测/Train/fundus_image/V0176.jpg      1\n",
       "3  常规赛：PALM病理性近视预测/Train/fundus_image/N0116.jpg      0\n",
       "4  常规赛：PALM病理性近视预测/Train/fundus_image/H0010.jpg      0"
      ]
     },
     "execution_count": 3,
     "metadata": {},
     "output_type": "execute_result"
    }
   ],
   "source": [
    "# 训练数据\r\n",
    "Image_path = '常规赛：PALM病理性近视预测/Train/fundus_image'                             # 数据存放根目录\r\n",
    "Train_data = pd.read_excel('常规赛：PALM病理性近视预测/Train/Classification.xlsx')       # 数据xlsx文件\r\n",
    "\r\n",
    "for i in range(len(Train_data)):                                                       # 将DataFrame表格中的图片补足路径\r\n",
    "    Train_data.iloc[i, 0] = os.path.join(Image_path, Train_data.iloc[i, 0])            # 拼接路径\r\n",
    "\r\n",
    "Train_data = Train_data.sample(frac=1.0, random_state=2021).reset_index(drop=True)     # frac=1.0对应随机采样全部样本（表格数据），对应打乱表格\r\n",
    "Train_data.head()"
   ]
  },
  {
   "cell_type": "markdown",
   "metadata": {
    "collapsed": false
   },
   "source": [
    "类似的，处理需要预测的数据，不过这时没有给定的xlsx文件，我们需要创建自定义的DataFrame表格"
   ]
  },
  {
   "cell_type": "code",
   "execution_count": 4,
   "metadata": {
    "collapsed": false
   },
   "outputs": [
    {
     "data": {
      "text/html": [
       "<div>\n",
       "<style scoped>\n",
       "    .dataframe tbody tr th:only-of-type {\n",
       "        vertical-align: middle;\n",
       "    }\n",
       "\n",
       "    .dataframe tbody tr th {\n",
       "        vertical-align: top;\n",
       "    }\n",
       "\n",
       "    .dataframe thead th {\n",
       "        text-align: right;\n",
       "    }\n",
       "</style>\n",
       "<table border=\"1\" class=\"dataframe\">\n",
       "  <thead>\n",
       "    <tr style=\"text-align: right;\">\n",
       "      <th></th>\n",
       "      <th>0</th>\n",
       "      <th>1</th>\n",
       "    </tr>\n",
       "  </thead>\n",
       "  <tbody>\n",
       "    <tr>\n",
       "      <th>0</th>\n",
       "      <td>常规赛：PALM病理性近视预测/PALM-Testing400-Images/T0001.jpg</td>\n",
       "      <td>0</td>\n",
       "    </tr>\n",
       "    <tr>\n",
       "      <th>1</th>\n",
       "      <td>常规赛：PALM病理性近视预测/PALM-Testing400-Images/T0002.jpg</td>\n",
       "      <td>0</td>\n",
       "    </tr>\n",
       "    <tr>\n",
       "      <th>2</th>\n",
       "      <td>常规赛：PALM病理性近视预测/PALM-Testing400-Images/T0003.jpg</td>\n",
       "      <td>0</td>\n",
       "    </tr>\n",
       "    <tr>\n",
       "      <th>3</th>\n",
       "      <td>常规赛：PALM病理性近视预测/PALM-Testing400-Images/T0004.jpg</td>\n",
       "      <td>0</td>\n",
       "    </tr>\n",
       "    <tr>\n",
       "      <th>4</th>\n",
       "      <td>常规赛：PALM病理性近视预测/PALM-Testing400-Images/T0005.jpg</td>\n",
       "      <td>0</td>\n",
       "    </tr>\n",
       "  </tbody>\n",
       "</table>\n",
       "</div>"
      ],
      "text/plain": [
       "                                                  0  1\n",
       "0  常规赛：PALM病理性近视预测/PALM-Testing400-Images/T0001.jpg  0\n",
       "1  常规赛：PALM病理性近视预测/PALM-Testing400-Images/T0002.jpg  0\n",
       "2  常规赛：PALM病理性近视预测/PALM-Testing400-Images/T0003.jpg  0\n",
       "3  常规赛：PALM病理性近视预测/PALM-Testing400-Images/T0004.jpg  0\n",
       "4  常规赛：PALM病理性近视预测/PALM-Testing400-Images/T0005.jpg  0"
      ]
     },
     "execution_count": 4,
     "metadata": {},
     "output_type": "execute_result"
    }
   ],
   "source": [
    "Test_data = []                                                                      # 测试图片路径(数据)\r\n",
    "Test_path = '常规赛：PALM病理性近视预测/PALM-Testing400-Images'                      # 测试图片根目录\r\n",
    "for _, _, files in os.walk(Test_path):                                              # 获取目录下的所有图片文件\r\n",
    "    for i in files:                  # 遍历文件\r\n",
    "        Test_data.append([i, 0])     # 添加当前图片文件+一个默认标签0——以对应img,label的格式，方便预测结果存储\r\n",
    "Test_data = np.asarray(Test_data)    # 转换datatype\r\n",
    "Test_data = pd.DataFrame(Test_data)  # 转换为DataFrame表格数据\r\n",
    "Test_data = Test_data.sort_values(by=0, ascending=True).reset_index(drop=True)      # 对读取的文件排序--文件名字支持排序\r\n",
    "for i in range(len(Test_data)):                                                     # 拼接完整图片路径\r\n",
    "    Test_data.iloc[i, 0] = os.path.join(Test_path, Test_data.iloc[i, 0])\r\n",
    "Test_data.head()"
   ]
  },
  {
   "cell_type": "markdown",
   "metadata": {
    "collapsed": false
   },
   "source": [
    "# 3. 构建数据集Dataset自定义类\n",
    "\n",
    "* 注意传入的数据为DataFrame的表格数据，因此需要定制方法读取表格数据"
   ]
  },
  {
   "cell_type": "code",
   "execution_count": 6,
   "metadata": {
    "collapsed": false
   },
   "outputs": [],
   "source": [
    "class Train_Dataset(Dataset):\r\n",
    "    '''加载训练集，把数据加载函数拼进来'''\r\n",
    "    def __init__(self, df, trans=None):\r\n",
    "        super(Train_Dataset, self).__init__()\r\n",
    "        self.df = df\r\n",
    "        if trans is None:\r\n",
    "            self.trans = transforms.Compose([\r\n",
    "                transforms.Resize(size=(960, 960)),\r\n",
    "                transforms.ToTensor(),\r\n",
    "                transforms.Normalize()\r\n",
    "            ])\r\n",
    "        else:\r\n",
    "            self.trans = trans\r\n",
    "        self.lens = len(df)\r\n",
    "\r\n",
    "    def __getitem__(self, indexs):\r\n",
    "        im_data, im_label = self._load_img_and_label(self.df, indexs)\r\n",
    "        im_data = self.trans(im_data)\r\n",
    "        return im_data, paddle.to_tensor(im_label)\r\n",
    "\r\n",
    "    def _load_img_and_label(self, df, index):\r\n",
    "        '''加载DF中的路径为图片和标签\r\n",
    "            df: 输入DF\r\n",
    "            index: 第几条数据\r\n",
    "        '''\r\n",
    "        assert index < self.lens, \\\r\n",
    "            'please check the index, which has more than the dataset length!'\r\n",
    "        im_data = cv.imread(df.iloc[index, 0], cv.COLOR_BGR2RGB)  # 转为RGB数据\r\n",
    "        im_label = int(df.iloc[index, 1])  # 标签\r\n",
    "        return np.asarray(im_data).astype('float32'), im_label\r\n",
    "\r\n",
    "    def __len__(self):\r\n",
    "        return self.lens\r\n",
    "\r\n",
    "class Test_Dataset(Dataset):\r\n",
    "    '''加载测试集\r\n",
    "        把数据加载函数拼进来\r\n",
    "    '''\r\n",
    "    def __init__(self, df, trans=None):\r\n",
    "        super(Test_Dataset, self).__init__()\r\n",
    "        self.df = df\r\n",
    "        if trans is None:\r\n",
    "            self.trans = transforms.Compose([\r\n",
    "                transforms.Resize(size=(960, 960)),  # 保证迁移前后输入特征大小一致\r\n",
    "                transforms.ToTensor(),\r\n",
    "                transforms.Normalize()\r\n",
    "            ])\r\n",
    "        else:\r\n",
    "            self.trans = trans\r\n",
    "        self.lens = len(df)\r\n",
    "\r\n",
    "    def __getitem__(self, indexs):\r\n",
    "        im_data, im_label = self._load_img_and_label(self.df, indexs)\r\n",
    "        im_data = self.trans(im_data)\r\n",
    "        return im_data, paddle.to_tensor(im_label)\r\n",
    "\r\n",
    "    def _load_img_and_label(self, df, index):\r\n",
    "        '''加载DF中的路径为图片和标签\r\n",
    "            df: 输入DF\r\n",
    "            index: 第几条数据\r\n",
    "        '''\r\n",
    "        assert index < self.lens, \\\r\n",
    "            'please check the index, which has more than the dataset length!'\r\n",
    "        im_data = cv.imread(df.iloc[index, 0], cv.COLOR_BGR2RGB)  # 转为RGB数据\r\n",
    "        im_label = int(df.iloc[index, 1])  # 标签\r\n",
    "        return np.asarray(im_data).astype('float32'), im_label\r\n",
    "    \r\n",
    "    def __len__(self):\r\n",
    "        return self.lens"
   ]
  },
  {
   "cell_type": "markdown",
   "metadata": {
    "collapsed": false
   },
   "source": [
    "# 模型基本参数配置\n",
    "\n",
    "* 主要是学习率、轮次、类别、批大小、数据集划分大小"
   ]
  },
  {
   "cell_type": "code",
   "execution_count": 7,
   "metadata": {
    "collapsed": false
   },
   "outputs": [],
   "source": [
    "# 训练参数-=dict\r\n",
    "Train_Paramdict = {\r\n",
    "    'data_length':len(Train_data),  # 数据长度\r\n",
    "    'train_frac':0.8,              # 训练集比例，原始：0.8\r\n",
    "    'num_class':2,                  # 类别，原始：2\r\n",
    "    'epoches':50,                   # 训练轮次，原始：5\r\n",
    "    'batchsize':8,                 # 批量大小，原始：8\r\n",
    "    'lr':0.001,                      # 学习率,原始：0.005\r\n",
    "}"
   ]
  },
  {
   "cell_type": "markdown",
   "metadata": {
    "collapsed": false
   },
   "source": [
    "# 划分验证集\n",
    "\n",
    "* 根据默认参数划分"
   ]
  },
  {
   "cell_type": "code",
   "execution_count": 8,
   "metadata": {
    "collapsed": false
   },
   "outputs": [],
   "source": [
    "# 数据集划分\r\n",
    "Fit_data  = Train_data.iloc[:int(Train_Paramdict['data_length']*Train_Paramdict['train_frac'])]\r\n",
    "Eval_data = Train_data.iloc[int(Train_Paramdict['data_length']*Train_Paramdict['train_frac']):]"
   ]
  },
  {
   "cell_type": "markdown",
   "metadata": {
    "collapsed": false
   },
   "source": [
    "# 加载数据集\n",
    "\n",
    "* 将Dataframe传入自定义的Dataset类\n",
    "* 创建DataLoader加载器"
   ]
  },
  {
   "cell_type": "code",
   "execution_count": 9,
   "metadata": {
    "collapsed": false
   },
   "outputs": [],
   "source": [
    "# 数据加载\r\n",
    "Fit_dataset = Train_Dataset(Fit_data)\r\n",
    "Eval_dataset = Test_Dataset(Eval_data)\r\n",
    "\r\n",
    "Fit_dataloader = DataLoader(Fit_dataset, batch_size=Train_Paramdict['batchsize'], shuffle=True)\r\n",
    "Eval_dataloader = DataLoader(Eval_dataset, batch_size=Train_Paramdict['batchsize'])"
   ]
  },
  {
   "cell_type": "markdown",
   "metadata": {
    "collapsed": false
   },
   "source": [
    "# 创建模型\n",
    "\n",
    "* 利用基模型构建基线--MobileNetV1\n",
    "\n",
    "* 在V1的基础上，选择MolileNetV2进行训练\n",
    "\n",
    "* 选择较为稳定的优化器、损失函数、评价指标"
   ]
  },
  {
   "cell_type": "code",
   "execution_count": 10,
   "metadata": {
    "collapsed": false
   },
   "outputs": [],
   "source": [
    "#创建模型\r\n",
    "#model = paddle.vision.models.ResNet(num_classes=2,block=2,depth=100)\r\n",
    "model = paddle.vision.models.MobileNetV2(num_classes=2)# 使用paddle自带的基础模型进行基线测试\r\n",
    "model = paddle.Model(model)                             # 使用高层API简化训练过程\r\n",
    "\r\n",
    "\r\n",
    "# 优化器\r\n",
    "O = optimizer.Adam(learning_rate=Train_Paramdict['lr'], parameters=model.parameters() )\r\n",
    "# 损失函数\r\n",
    "L = loss.CrossEntropyLoss()\r\n",
    "# 评估指标--这里baseline选用精确率\r\n",
    "M = metric.Accuracy()\r\n",
    "\r\n",
    "# 预载模型训练配置\r\n",
    "model.prepare(O, L, M)"
   ]
  },
  {
   "cell_type": "markdown",
   "metadata": {
    "collapsed": false
   },
   "source": [
    "开始训练"
   ]
  },
  {
   "cell_type": "code",
   "execution_count": 13,
   "metadata": {
    "collapsed": false
   },
   "outputs": [
    {
     "name": "stdout",
     "output_type": "stream",
     "text": [
      "The loss value printed in the log is the current step, and the metric is the average value of previous step.\n",
      "Epoch 1/50\n"
     ]
    },
    {
     "name": "stderr",
     "output_type": "stream",
     "text": [
      "/opt/conda/envs/python35-paddle120-env/lib/python3.7/site-packages/paddle/tensor/creation.py:143: DeprecationWarning: `np.object` is a deprecated alias for the builtin `object`. To silence this warning, use `object` by itself. Doing this will not modify any behavior and is safe. \n",
      "Deprecated in NumPy 1.20; for more details and guidance: https://numpy.org/devdocs/release/1.20.0-notes.html#deprecations\n",
      "  if data.dtype == np.object:\n",
      "/opt/conda/envs/python35-paddle120-env/lib/python3.7/site-packages/paddle/fluid/dataloader/dataloader_iter.py:89: DeprecationWarning: `np.bool` is a deprecated alias for the builtin `bool`. To silence this warning, use `bool` by itself. Doing this will not modify any behavior and is safe. If you specifically wanted the numpy scalar type, use `np.bool_` here.\n",
      "Deprecated in NumPy 1.20; for more details and guidance: https://numpy.org/devdocs/release/1.20.0-notes.html#deprecations\n",
      "  if isinstance(slot[0], (np.ndarray, np.bool, numbers.Number)):\n",
      "/opt/conda/envs/python35-paddle120-env/lib/python3.7/site-packages/paddle/fluid/layers/utils.py:77: DeprecationWarning: Using or importing the ABCs from 'collections' instead of from 'collections.abc' is deprecated, and in 3.8 it will stop working\n",
      "  return (isinstance(seq, collections.Sequence) and\n",
      "/opt/conda/envs/python35-paddle120-env/lib/python3.7/site-packages/paddle/nn/layer/norm.py:648: UserWarning: When training, we now always track global mean and variance.\n",
      "  \"When training, we now always track global mean and variance.\")\n"
     ]
    },
    {
     "name": "stdout",
     "output_type": "stream",
     "text": [
      "Eval samples: 160\r"
     ]
    }
   ],
   "source": [
    "\r\n",
    "model.fit(\r\n",
    "    Fit_dataloader,\r\n",
    "    Eval_dataloader,\r\n",
    "    epochs = Train_Paramdict['epoches'],\r\n",
    "    eval_freq=1,          # 验证频率--几个轮次验证一次\r\n",
    "    log_freq=2,          # 日志频率--几个step输出一次训练日志信息\r\n",
    "    # save_dir=None,        # 如果需要保存模型，None改成路径\r\n",
    "    # save_freq=1,          # 保存频率--几个epoch保存一次\r\n",
    ")"
   ]
  },
  {
   "cell_type": "markdown",
   "metadata": {
    "collapsed": false
   },
   "source": [
    "# 加载预测数据集"
   ]
  },
  {
   "cell_type": "code",
   "execution_count": 11,
   "metadata": {
    "collapsed": false
   },
   "outputs": [],
   "source": [
    "# 数据加载\r\n",
    "Test_dataset = Test_Dataset(Test_data)\r\n",
    "Test_dataloader = DataLoader(Test_dataset, batch_size=Train_Paramdict['batchsize']) "
   ]
  },
  {
   "cell_type": "markdown",
   "metadata": {
    "collapsed": false
   },
   "source": [
    "# 进行模型预测\n",
    "\n",
    "* 预测的结果是一个多维概率数据"
   ]
  },
  {
   "cell_type": "code",
   "execution_count": 15,
   "metadata": {
    "collapsed": false
   },
   "outputs": [
    {
     "name": "stdout",
     "output_type": "stream",
     "text": [
      "Predict begin...\n"
     ]
    },
    {
     "name": "stderr",
     "output_type": "stream",
     "text": [
      "/opt/conda/envs/python35-paddle120-env/lib/python3.7/site-packages/paddle/fluid/layers/utils.py:77: DeprecationWarning: Using or importing the ABCs from 'collections' instead of from 'collections.abc' is deprecated, and in 3.8 it will stop working\n",
      "  return (isinstance(seq, collections.Sequence) and\n"
     ]
    },
    {
     "name": "stdout",
     "output_type": "stream",
     "text": [
      "step  2/50 [>.............................] - ETA: 7:24 - 9s/step"
     ]
    }
   ],
   "source": [
    "results = model.predict(Test_dataloader)         # 预测结果--概率"
   ]
  },
  {
   "cell_type": "markdown",
   "metadata": {
    "collapsed": false
   },
   "source": [
    "# 预测结果处理，提交结果\n",
    "\n",
    "* 提取提交有效数据\n",
    "* 修改Test的DataFrame表格适应提交要求\n",
    "* 注意保存的表头名称以及数据格式"
   ]
  },
  {
   "cell_type": "code",
   "execution_count": 16,
   "metadata": {
    "collapsed": false
   },
   "outputs": [],
   "source": [
    "results = np.asarray(results)   \r\n",
    "\r\n",
    "submit_result = []\r\n",
    "for i in results[0]:            # 提取结果数据\r\n",
    "    i = paddle.to_tensor(i)     # 便于使用paddle的方法\r\n",
    "    i = paddle.nn.functional.softmax(i)            # softmax获取预测概率结果\r\n",
    "    result = i[:, 1]            # 获取1类别对应的概率--是否病理性\r\n",
    "    submit_result += result.numpy().tolist()       # 拼接list结果\r\n",
    "submit_result = np.asarray(submit_result) "
   ]
  },
  {
   "cell_type": "code",
   "execution_count": 17,
   "metadata": {
    "collapsed": false
   },
   "outputs": [
    {
     "data": {
      "text/html": [
       "<div>\n",
       "<style scoped>\n",
       "    .dataframe tbody tr th:only-of-type {\n",
       "        vertical-align: middle;\n",
       "    }\n",
       "\n",
       "    .dataframe tbody tr th {\n",
       "        vertical-align: top;\n",
       "    }\n",
       "\n",
       "    .dataframe thead th {\n",
       "        text-align: right;\n",
       "    }\n",
       "</style>\n",
       "<table border=\"1\" class=\"dataframe\">\n",
       "  <thead>\n",
       "    <tr style=\"text-align: right;\">\n",
       "      <th></th>\n",
       "      <th>FileName</th>\n",
       "      <th>PM Risk</th>\n",
       "    </tr>\n",
       "  </thead>\n",
       "  <tbody>\n",
       "    <tr>\n",
       "      <th>0</th>\n",
       "      <td>T0001.jpg</td>\n",
       "      <td>0.976404</td>\n",
       "    </tr>\n",
       "    <tr>\n",
       "      <th>1</th>\n",
       "      <td>T0002.jpg</td>\n",
       "      <td>0.000336</td>\n",
       "    </tr>\n",
       "    <tr>\n",
       "      <th>2</th>\n",
       "      <td>T0003.jpg</td>\n",
       "      <td>0.000055</td>\n",
       "    </tr>\n",
       "    <tr>\n",
       "      <th>3</th>\n",
       "      <td>T0004.jpg</td>\n",
       "      <td>0.610417</td>\n",
       "    </tr>\n",
       "    <tr>\n",
       "      <th>4</th>\n",
       "      <td>T0005.jpg</td>\n",
       "      <td>0.993214</td>\n",
       "    </tr>\n",
       "  </tbody>\n",
       "</table>\n",
       "</div>"
      ],
      "text/plain": [
       "    FileName   PM Risk\n",
       "0  T0001.jpg  0.976404\n",
       "1  T0002.jpg  0.000336\n",
       "2  T0003.jpg  0.000055\n",
       "3  T0004.jpg  0.610417\n",
       "4  T0005.jpg  0.993214"
      ]
     },
     "execution_count": 17,
     "metadata": {},
     "output_type": "execute_result"
    }
   ],
   "source": [
    "Test_data.iloc[:, 1] = submit_result       # 将结果数据用于修改最初的Test数据DataFrame表格中的Label项数据\r\n",
    "Submit_data = Test_data.copy()             # 拷贝一份测试数据\r\n",
    "Submit_data.columns = ['FileName', 'PM Risk']  # 修改表格表头，以适应提交需要\r\n",
    "for i in range(len(Submit_data)):                         # 取出原Test中的图片文件名称--不要根目录\r\n",
    "    Submit_data.iloc[i, 0] = Submit_data.iloc[i, 0][-9:]\r\n",
    "Submit_data.head()"
   ]
  },
  {
   "cell_type": "markdown",
   "metadata": {
    "collapsed": false
   },
   "source": [
    "不需要序列号以及数值格式为保留一位浮点数的格式"
   ]
  },
  {
   "cell_type": "code",
   "execution_count": 18,
   "metadata": {
    "collapsed": false
   },
   "outputs": [],
   "source": [
    "Submit_data.to_csv('Classification_Results.csv', index=False, float_format=\"%.1f\")       # 保存结果csv"
   ]
  }
 ],
 "metadata": {
  "kernelspec": {
   "display_name": "PaddlePaddle 2.0.0b0 (Python 3.5)",
   "language": "python",
   "name": "py35-paddle1.2.0"
  },
  "language_info": {
   "codemirror_mode": {
    "name": "ipython",
    "version": 3
   },
   "file_extension": ".py",
   "mimetype": "text/x-python",
   "name": "python",
   "nbconvert_exporter": "python",
   "pygments_lexer": "ipython3",
   "version": "3.7.4"
  }
 },
 "nbformat": 4,
 "nbformat_minor": 1
}
